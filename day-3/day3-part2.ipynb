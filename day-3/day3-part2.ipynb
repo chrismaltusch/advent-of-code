{
 "cells": [
  {
   "cell_type": "code",
   "execution_count": 1,
   "metadata": {},
   "outputs": [
    {
     "name": "stdout",
     "output_type": "stream",
     "text": [
      "81721933\n"
     ]
    }
   ],
   "source": [
    "with open('input.txt', 'r') as file:\n",
    "    data = file.read()\n",
    "    lines = data.strip().split(\"\\n\")\n",
    "\n",
    "\n",
    "# setting boundaries of where to inspect for symbols\n",
    "\n",
    "a = len(lines) # counting the max amount of lines\n",
    "b = len(lines[0]) # counting the max amount of characters in a line\n",
    "\n",
    "log = [[[] for _ in range(b)] for _ in range(a)] # creating a log of all the numbers that are surrounded by *'s\n",
    "\n",
    "def gear_ratio(i,j, num): # checking for any of the special symbols (#, *, !, @, $, %, &, ?)\n",
    "    if not (0 <= i < a and 0 <= j < b): # checking if the coordinates are within the boundaries, i is the row number, j is the column number\n",
    "        return False # if not, return False\n",
    "    if lines[i][j] == \"*\": # if the character is a star, return True\n",
    "        log[i][j].append(num) # add the number to the log\n",
    "    return lines[i][j] != '.' and not lines[i][j].isdigit()\n",
    "\n",
    "\n",
    "answer = 0 # setting the answer to 0\n",
    "\n",
    "for i, line in enumerate(lines):\n",
    "    start = 0 # setting the start of the line to 0\n",
    "    j = 0 # setting the character position to 0\n",
    "    \n",
    "    while j < b: # while the character number is within the boundaries\n",
    "        start = j\n",
    "        num = \"\"\n",
    "        \n",
    "        while j < b and line[j].isdigit(): # while the character is within the boundaries and the character is a digit\n",
    "            num += line[j] # add the character to the number\n",
    "            j += 1 # move on to the next character\n",
    "\n",
    "        if num == \"\": # if the number is empty, move on to the next character\n",
    "            j += 1 \n",
    "            continue\n",
    "        \n",
    "        num = int(num) # convert the number to an integer\n",
    "        \n",
    "        gear_ratio(i, start-1, num) or gear_ratio(i, j, num) # checking if the number is surrounded by special symbols\n",
    "        \n",
    "        for k in range(start-1, j+1): # checking if the number is surrounded by special symbols\n",
    "            gear_ratio(i-1, k, num) or gear_ratio(i+1, k, num)\n",
    "            \n",
    "for i in range(a): # for every row\n",
    "    for j in range(b): # for every character in the row\n",
    "        nums = log[i][j]\n",
    "        if lines[i][j] == '*' and len(nums) == 2: # if there is more than one number in the log\n",
    "            answer += nums[0] * nums[1]# add one to the answer\n",
    "\n",
    "print(answer)\n",
    "\n",
    "##used https://www.youtube.com/watch?v=6t1dR_-U_zE&t=526s for help understanding indexing"
   ]
  }
 ],
 "metadata": {
  "kernelspec": {
   "display_name": "Python 3",
   "language": "python",
   "name": "python3"
  },
  "language_info": {
   "codemirror_mode": {
    "name": "ipython",
    "version": 3
   },
   "file_extension": ".py",
   "mimetype": "text/x-python",
   "name": "python",
   "nbconvert_exporter": "python",
   "pygments_lexer": "ipython3",
   "version": "3.10.13"
  }
 },
 "nbformat": 4,
 "nbformat_minor": 2
}

{
 "cells": [
  {
   "cell_type": "code",
   "execution_count": 8,
   "metadata": {},
   "outputs": [
    {
     "name": "stdout",
     "output_type": "stream",
     "text": [
      "522726\n"
     ]
    }
   ],
   "source": [
    "with open('input.txt', 'r') as file:\n",
    "    data = file.read()\n",
    "    lines = data.strip().split(\"\\n\")\n",
    "\n",
    "\n",
    "# setting boundaries of where to inspect for symbols\n",
    "\n",
    "a = len(lines) # counting the max amount of lines\n",
    "b = len(lines[0]) # counting the max amount of characters in a line\n",
    "\n",
    "def symbol_check(i, j): # checking for any of the special symbols (#, *, !, @, $, %, &, ?)\n",
    "    if not (0 <= i < a and 0 <= j < b): # checking if the coordinates are within the boundaries, i is the row number, j is the column number\n",
    "        return False # if not, return False\n",
    "    \n",
    "    return lines[i][j] != '.' and not lines[i][j].isdigit() # if the coordinates are within the boundaries, check if the character is a dot or a digit, if not, return True\n",
    "\n",
    "answer = 0 # setting the answer to 0\n",
    "\n",
    "for i, line in enumerate(lines):\n",
    "    start = 0 # setting the start of the line to 0\n",
    "    j = 0 # setting the character position to 0\n",
    "    \n",
    "    while j < b: # while the character number is within the boundaries\n",
    "        start = j\n",
    "        num = \"\"\n",
    "        \n",
    "        while j < b and line[j].isdigit(): # while the character is within the boundaries and the character is a digit\n",
    "            num += line[j] # add the character to the number\n",
    "            j += 1 # move on to the next character\n",
    "\n",
    "        if num == \"\": # if the number is empty, move on to the next character\n",
    "            j += 1 \n",
    "            continue\n",
    "        \n",
    "        num = int(num) # convert the number to an integer\n",
    "        \n",
    "        if symbol_check(i, start-1) or symbol_check(i, j): # if the character before or after the number is a special symbol, add the number to the answer\n",
    "            answer += num # add the number to the answer\n",
    "            j += 1 # move on to the next character\n",
    "            continue\n",
    "        \n",
    "        for k in range(start-1, j+1): # checking if the number is surrounded by special symbols\n",
    "            if symbol_check(i-1, k) or symbol_check(i+1, k): # if the character above or below the number is a special symbol, add the number to the answer\n",
    "                answer += num\n",
    "                break\n",
    "\n",
    "print(answer)\n",
    "\n",
    "#used https://www.youtube.com/watch?v=6t1dR_-U_zE&t=526s for help understanding indexing"
   ]
  }
 ],
 "metadata": {
  "kernelspec": {
   "display_name": "Python 3",
   "language": "python",
   "name": "python3"
  },
  "language_info": {
   "codemirror_mode": {
    "name": "ipython",
    "version": 3
   },
   "file_extension": ".py",
   "mimetype": "text/x-python",
   "name": "python",
   "nbconvert_exporter": "python",
   "pygments_lexer": "ipython3",
   "version": "3.10.13"
  }
 },
 "nbformat": 4,
 "nbformat_minor": 2
}

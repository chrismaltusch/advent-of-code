{
 "cells": [
  {
   "cell_type": "code",
   "execution_count": 5,
   "metadata": {},
   "outputs": [
    {
     "name": "stdout",
     "output_type": "stream",
     "text": [
      "[0, 1, 2, 3, 4, 5, 6, 7, 8, 9, 9, 9, 8, 8, 7, 7, 8, 8, 7, 7, 6, 7, 4, 4, 1, 2, 3, 4, 5, 6, 6, 6, 6, 5, 5, 6, 5, 5, 4, 1, 2, 3, 4, 5, 6, 6, 7, 7, 7, 7, 8, 6, 5, 4, 3, 1, 2, 3, 4, 5, 5, 6, 6, 7, 7, 7, 6, 7, 8, 8, 8, 4, 4, 3, 1, 2, 3, 4, 5, 6, 6, 7, 5, 4, 5, 5, 4, 3, 2, 2, 3, 1, 2, 2, 3, 3, 4, 5, 5, 5, 6, 5, 4, 4, 3, 3, 2, 1, 2, 3, 4, 5, 6, 6, 7, 8, 8, 8, 9, 7, 8, 8, 8, 8, 9, 8, 7, 6, 5, 5, 4, 1, 2, 3, 4, 5, 6, 6, 7, 8, 7, 8, 7, 7, 6, 7, 8, 8, 9, 10, 8, 7, 4, 5, 5, 1, 2, 3, 4, 4, 5, 6, 7, 7, 7, 7, 5, 6, 5, 3, 1, 2, 3, 4, 5, 6, 5, 6, 7, 8, 9, 8, 7, 6, 7, 4, 4, 2, 1]\n",
      "984\n"
     ]
    }
   ],
   "source": [
    "import re #import regular expressions\n",
    "\n",
    "with open(\"input.txt\") as file:\n",
    "    lines = file.read().strip().split(\"\\n\") #split the file into lines by new line and strip the whitespace\n",
    "\n",
    "n = len(lines) #get the number of lines\n",
    "copies = [[] for _ in range(n+1)] #keeping track of the copies that are won (indexs of the lines)\n",
    "\n",
    "for i, line in enumerate(lines):\n",
    "    parts = re.split(\"\\s+\", line) #split the line into parts by any number of whitespace\n",
    "    index = parts.index(\"|\") #get the index of the pipe\n",
    "    winning_numbers = list(map(int, parts[2:12])) #parse through the 2nd to 12th parts and convert them to winning numbers\n",
    "    drawn_numbers = list(map(int, parts[13:])) #parse through the 13th to the end parts and convert them to drawn numbers\n",
    "\n",
    "    score = 0 #set the score to 0\n",
    "    for num in drawn_numbers: #for each number in the drawn numbers\n",
    "        if num in winning_numbers: #if the number is in the winning numbers\n",
    "            score += 1\n",
    "    \n",
    "    for j in range (i+1, i+score+1): #for each number in the range of i+1 to i+score+1\n",
    "        copies[j].append(i)\n",
    "    \n",
    "    score = [0] + [1 for _ in range(n)]\n",
    "    \n",
    "    for i in range(n-1, -1, -1): #very last card is not going to win any additional cards; compute the recursive score for each card\n",
    "        for j in copies[i]:\n",
    "            score[i] += score[j]\n",
    "\n",
    "print(score) #print the number of cards won\n",
    "print(sum(score)) #print the answer\n",
    "\n",
    "#used https://www.youtube.com/watch?v=QpPsyMEYAV8 for help understanding regex"
   ]
  }
 ],
 "metadata": {
  "kernelspec": {
   "display_name": "Python 3",
   "language": "python",
   "name": "python3"
  },
  "language_info": {
   "codemirror_mode": {
    "name": "ipython",
    "version": 3
   },
   "file_extension": ".py",
   "mimetype": "text/x-python",
   "name": "python",
   "nbconvert_exporter": "python",
   "pygments_lexer": "ipython3",
   "version": "3.10.13"
  }
 },
 "nbformat": 4,
 "nbformat_minor": 2
}

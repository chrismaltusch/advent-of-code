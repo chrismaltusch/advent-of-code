{
 "cells": [
  {
   "cell_type": "code",
   "execution_count": 3,
   "metadata": {},
   "outputs": [
    {
     "name": "stdout",
     "output_type": "stream",
     "text": [
      "19135\n"
     ]
    }
   ],
   "source": [
    "import re #import regular expressions\n",
    "\n",
    "with open(\"input.txt\") as file:\n",
    "    lines = file.read().strip().split(\"\\n\") #split the file into lines by new line and strip the whitespace\n",
    "\n",
    "answer = 0 #set the answer to 0\n",
    "\n",
    "for line in lines:\n",
    "    parts = re.split(\"\\s+\", line) #split the line into parts by any number of whitespace\n",
    "    winning_numbers = list(map(int, parts[2:12])) #parse through the 2nd to 12th parts and convert them to winning numbers\n",
    "    drawn_numbers = list(map(int, parts[13:])) #parse through the 13th to the end parts and convert them to drawn numbers\n",
    "\n",
    "    score = 0 #set the score to 0\n",
    "    for num in drawn_numbers: #for each number in the drawn numbers\n",
    "        if num in winning_numbers: #if the number is in the winning numbers\n",
    "            score += 1\n",
    "    \n",
    "    if score > 0:\n",
    "        answer += 2**(score-1) #add 2 to the power of the score minus 1 to the answer\n",
    "\n",
    "print(answer) #print the answer\n",
    "\n",
    "#used https://www.youtube.com/watch?v=QpPsyMEYAV8 for help understanding regex"
   ]
  }
 ],
 "metadata": {
  "kernelspec": {
   "display_name": "Python 3",
   "language": "python",
   "name": "python3"
  },
  "language_info": {
   "codemirror_mode": {
    "name": "ipython",
    "version": 3
   },
   "file_extension": ".py",
   "mimetype": "text/x-python",
   "name": "python",
   "nbconvert_exporter": "python",
   "pygments_lexer": "ipython3",
   "version": "3.10.13"
  }
 },
 "nbformat": 4,
 "nbformat_minor": 2
}

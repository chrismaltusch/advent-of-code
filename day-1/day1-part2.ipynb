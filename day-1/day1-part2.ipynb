{
 "cells": [
  {
   "cell_type": "code",
   "execution_count": 17,
   "metadata": {},
   "outputs": [
    {
     "data": {
      "text/plain": [
       "(55621, 53592)"
      ]
     },
     "execution_count": 17,
     "metadata": {},
     "output_type": "execute_result"
    }
   ],
   "source": [
    "import re\n",
    "import wordninja\n",
    "import ast\n",
    "\n",
    "digit_names = [\"zero\", \"one\", \"two\", \"three\", \"four\", \"five\", \"six\", \"seven\", \"eight\", \"nine\"]\n",
    "\n",
    "def main(input):\n",
    "    lines = input.splitlines()\n",
    "    total_sum = 0\n",
    "    total_sum2 = 0\n",
    "    if lines is not None:\n",
    "        for line in lines:\n",
    "            digits = [char for char in line if char.isnumeric()]\n",
    "            if digits:\n",
    "                total_sum += int(digits[0]+digits[-1])\n",
    "            \n",
    "            digits = [char for char in translate(line) if char.isnumeric()]\n",
    "            total_sum2 += int(digits[0]+digits[-1])\n",
    "    \n",
    "        return total_sum, total_sum2\n",
    "\n",
    "def translate(line):\n",
    "    for num, name in enumerate(digit_names):\n",
    "        line = line.replace(name, f\"{name}{num}{name}\")\n",
    "    return line\n",
    "        \n",
    "translate(\"mxmkjvgsdzfhseightonetwoeight7\")\n",
    "     \n",
    "main(open(\"input.txt\",\"r\").read())      "
   ]
  },
  {
   "cell_type": "markdown",
   "metadata": {},
   "source": []
  }
 ],
 "metadata": {
  "kernelspec": {
   "display_name": "Python 3",
   "language": "python",
   "name": "python3"
  },
  "language_info": {
   "codemirror_mode": {
    "name": "ipython",
    "version": 3
   },
   "file_extension": ".py",
   "mimetype": "text/x-python",
   "name": "python",
   "nbconvert_exporter": "python",
   "pygments_lexer": "ipython3",
   "version": "3.10.13"
  }
 },
 "nbformat": 4,
 "nbformat_minor": 2
}

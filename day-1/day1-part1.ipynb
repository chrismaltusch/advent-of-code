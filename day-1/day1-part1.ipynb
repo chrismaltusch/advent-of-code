{
 "cells": [
  {
   "cell_type": "code",
   "execution_count": 33,
   "metadata": {},
   "outputs": [
    {
     "name": "stdout",
     "output_type": "stream",
     "text": [
      "55621\n"
     ]
    }
   ],
   "source": [
    "input = 'input.txt'\n",
    "\n",
    "total_sum = 0\n",
    "\n",
    "with open('input.txt', 'r') as file:\n",
    "    lines = file.read().splitlines()\n",
    "    for line in lines:\n",
    "        digits = [char for char in line if char.isdigit()]\n",
    "        first_digit = digits[0]\n",
    "        last_digit = digits[-1]\n",
    "        number = first_digit + last_digit\n",
    "        total_sum += int(number)\n",
    "\n",
    "print(total_sum)\n"
   ]
  }
 ],
 "metadata": {
  "kernelspec": {
   "display_name": "Python 3",
   "language": "python",
   "name": "python3"
  },
  "language_info": {
   "codemirror_mode": {
    "name": "ipython",
    "version": 3
   },
   "file_extension": ".py",
   "mimetype": "text/x-python",
   "name": "python",
   "nbconvert_exporter": "python",
   "pygments_lexer": "ipython3",
   "version": "3.10.13"
  }
 },
 "nbformat": 4,
 "nbformat_minor": 2
}

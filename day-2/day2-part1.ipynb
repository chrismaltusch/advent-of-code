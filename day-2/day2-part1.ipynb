{
 "cells": [
  {
   "cell_type": "markdown",
   "metadata": {},
   "source": [
    "# Day 2 AoC 2023\n",
    "-parse input into list and add to a dataframe, used Rob Mulla's walkthrough to understand dataframes was able to answer part 2"
   ]
  },
  {
   "cell_type": "code",
   "execution_count": 79,
   "metadata": {},
   "outputs": [],
   "source": [
    "import pandas as pd\n",
    "import re\n",
    "\n",
    "file_path = \"input.txt\"\n",
    "\n",
    "data = pd.DataFrame()\n",
    "\n",
    "results_list = []\n",
    "with open(file_path, \"r\") as file:\n",
    "    for line in file:\n",
    "        game, results = line.strip().split(':')\n",
    "        game_number = int(game.split(' ')[-1])\n",
    "        results = results.split(';')\n",
    "        for r in results:\n",
    "            red_match = re.search(r'(\\d+)\\s+red', r)\n",
    "            blue_match = re.search(r'(\\d+)\\s+blue', r)\n",
    "            green_match = re.search(r'(\\d+)\\s+green', r)\n",
    "            res = {'game_number': game_number, 'red': 0, 'blue': 0, 'green': 0}\n",
    "            if red_match:\n",
    "                res['red'] = int(red_match.group(1))\n",
    "            if blue_match:\n",
    "                res['blue'] = int(blue_match.group(1))\n",
    "            if green_match:\n",
    "                res['green'] = int(green_match.group(1))\n",
    "            \n",
    "            results_list.append(res)"
   ]
  },
  {
   "cell_type": "code",
   "execution_count": 120,
   "metadata": {},
   "outputs": [
    {
     "name": "stdout",
     "output_type": "stream",
     "text": [
      "The solution to part 1 is:  2169\n"
     ]
    }
   ],
   "source": [
    "# 12 red cubers, 14 blue cubes, and 13 green cubes are the maximum number of cubes that can be used in a single game.\n",
    "\n",
    "df = pd.DataFrame(results_list)\n",
    "# print(df)\n",
    "# df.query('red <= 12 and blue <= 14 and green <=13')\n",
    "\n",
    "df['passed_test'] = (df['red'] <= 12) & (df['blue'] <= 14) & (df['green'] <= 13) \n",
    "# print(df)\n",
    "\n",
    "\n",
    "grouped_passed = df.groupby('game_number')['passed_test'].mean().reset_index()\n",
    "solution_part1 = grouped_passed.query('passed_test == 1')['game_number'].sum()\n",
    "print('The solution to part 1 is: ', solution_part1)"
   ]
  },
  {
   "cell_type": "markdown",
   "metadata": {},
   "source": [
    "# Part 2\n",
    "-minimum number of cubes for each game and multiple them all together"
   ]
  },
  {
   "cell_type": "code",
   "execution_count": 119,
   "metadata": {},
   "outputs": [
    {
     "name": "stdout",
     "output_type": "stream",
     "text": [
      "The solution for Part 2:  60948\n"
     ]
    }
   ],
   "source": [
    "# group_red_max = df.groupby('game_number')['red'].max()\n",
    "# print(group_red_max)\n",
    "\n",
    "group_max = df.groupby('game_number')[['red','blue','green']].max()\n",
    "# print(group_max)\n",
    "\n",
    "group_max['power']=(group_max['red'] * group_max['blue'] * group_max['green'])\n",
    "# print(group_max)\n",
    "\n",
    "solution_part2 = group_max.query('game_number >= 0')['power'].sum()\n",
    "print('The solution for part 2: ',solution_part2)"
   ]
  },
  {
   "cell_type": "markdown",
   "metadata": {},
   "source": [
    "Lessons Learned: Python Notebooks for Debugging & Quick Responses; Github Code Pilot to resolve simple syntax errors; dataframes can't use dictionaries - needs to be a list. Resource for understand methodology approach to part 1: https://www.youtube.com/watch?v=LP43fm2GDH8. "
   ]
  }
 ],
 "metadata": {
  "kernelspec": {
   "display_name": "Python 3",
   "language": "python",
   "name": "python3"
  },
  "language_info": {
   "codemirror_mode": {
    "name": "ipython",
    "version": 3
   },
   "file_extension": ".py",
   "mimetype": "text/x-python",
   "name": "python",
   "nbconvert_exporter": "python",
   "pygments_lexer": "ipython3",
   "version": "3.10.13"
  }
 },
 "nbformat": 4,
 "nbformat_minor": 2
}
